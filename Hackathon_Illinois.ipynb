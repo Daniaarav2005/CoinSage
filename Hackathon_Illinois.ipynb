{
  "metadata": {
    "kernelspec": {
      "language": "python",
      "display_name": "Python 3",
      "name": "python3"
    },
    "language_info": {
      "name": "python",
      "version": "3.10.12",
      "mimetype": "text/x-python",
      "codemirror_mode": {
        "name": "ipython",
        "version": 3
      },
      "pygments_lexer": "ipython3",
      "nbconvert_exporter": "python",
      "file_extension": ".py"
    },
    "kaggle": {
      "accelerator": "gpu",
      "dataSources": [
        {
          "sourceId": 10895390,
          "sourceType": "datasetVersion",
          "datasetId": 6770986
        }
      ],
      "dockerImageVersionId": 30919,
      "isInternetEnabled": true,
      "language": "python",
      "sourceType": "notebook",
      "isGpuEnabled": true
    },
    "colab": {
      "name": "Hackathon Illinois",
      "provenance": [],
      "include_colab_link": true
    }
  },
  "nbformat_minor": 0,
  "nbformat": 4,
  "cells": [
    {
      "cell_type": "markdown",
      "metadata": {
        "id": "view-in-github",
        "colab_type": "text"
      },
      "source": [
        "<a href=\"https://colab.research.google.com/github/Daniaarav2005/CoinSage/blob/Abhijeet/Hackathon_Illinois.ipynb\" target=\"_parent\"><img src=\"https://colab.research.google.com/assets/colab-badge.svg\" alt=\"Open In Colab\"/></a>"
      ]
    },
    {
      "source": [
        "# IMPORTANT: SOME KAGGLE DATA SOURCES ARE PRIVATE\n",
        "# RUN THIS CELL IN ORDER TO IMPORT YOUR KAGGLE DATA SOURCES.\n",
        "import kagglehub\n",
        "kagglehub.login()\n"
      ],
      "metadata": {
        "id": "T-CqzwWqchtT"
      },
      "cell_type": "code",
      "outputs": [],
      "execution_count": null
    },
    {
      "source": [
        "# IMPORTANT: RUN THIS CELL IN ORDER TO IMPORT YOUR KAGGLE DATA SOURCES,\n",
        "# THEN FEEL FREE TO DELETE THIS CELL.\n",
        "# NOTE: THIS NOTEBOOK ENVIRONMENT DIFFERS FROM KAGGLE'S PYTHON\n",
        "# ENVIRONMENT SO THERE MAY BE MISSING LIBRARIES USED BY YOUR\n",
        "# NOTEBOOK.\n",
        "\n",
        "abhijeetbeedikar_doge_data_path = kagglehub.da\\taset_download('abhijeetbeedikar/doge-data')\n",
        "\n",
        "print('Data source import complete.')\n"
      ],
      "metadata": {
        "id": "qtxqTaBychtT"
      },
      "cell_type": "code",
      "outputs": [],
      "execution_count": null
    },
    {
      "cell_type": "code",
      "source": [
        "pip install tensorflow"
      ],
      "metadata": {
        "_uuid": "8f2839f25d086af736a60e9eeb907d3b93b6e0e5",
        "_cell_guid": "b1076dfc-b9ad-4769-8c92-a6c4dae69d19",
        "trusted": true,
        "execution": {
          "iopub.status.busy": "2025-03-02T10:23:22.275556Z",
          "iopub.execute_input": "2025-03-02T10:23:22.275987Z",
          "iopub.status.idle": "2025-03-02T10:23:25.853628Z",
          "shell.execute_reply.started": "2025-03-02T10:23:22.275949Z",
          "shell.execute_reply": "2025-03-02T10:23:25.852467Z"
        },
        "id": "BgyGxEYachtT",
        "outputId": "4cf1c3cc-ecf8-44b6-e757-aab477e8f338"
      },
      "outputs": [
        {
          "name": "stdout",
          "text": "Requirement already satisfied: tensorflow in /usr/local/lib/python3.10/dist-packages (2.17.1)\nRequirement already satisfied: absl-py>=1.0.0 in /usr/local/lib/python3.10/dist-packages (from tensorflow) (1.4.0)\nRequirement already satisfied: astunparse>=1.6.0 in /usr/local/lib/python3.10/dist-packages (from tensorflow) (1.6.3)\nRequirement already satisfied: flatbuffers>=24.3.25 in /usr/local/lib/python3.10/dist-packages (from tensorflow) (24.3.25)\nRequirement already satisfied: gast!=0.5.0,!=0.5.1,!=0.5.2,>=0.2.1 in /usr/local/lib/python3.10/dist-packages (from tensorflow) (0.6.0)\nRequirement already satisfied: google-pasta>=0.1.1 in /usr/local/lib/python3.10/dist-packages (from tensorflow) (0.2.0)\nRequirement already satisfied: h5py>=3.10.0 in /usr/local/lib/python3.10/dist-packages (from tensorflow) (3.12.1)\nRequirement already satisfied: libclang>=13.0.0 in /usr/local/lib/python3.10/dist-packages (from tensorflow) (18.1.1)\nRequirement already satisfied: ml-dtypes<0.5.0,>=0.3.1 in /usr/local/lib/python3.10/dist-packages (from tensorflow) (0.4.1)\nRequirement already satisfied: opt-einsum>=2.3.2 in /usr/local/lib/python3.10/dist-packages (from tensorflow) (3.4.0)\nRequirement already satisfied: packaging in /usr/local/lib/python3.10/dist-packages (from tensorflow) (24.2)\nRequirement already satisfied: protobuf!=4.21.0,!=4.21.1,!=4.21.2,!=4.21.3,!=4.21.4,!=4.21.5,<5.0.0dev,>=3.20.3 in /usr/local/lib/python3.10/dist-packages (from tensorflow) (3.20.3)\nRequirement already satisfied: requests<3,>=2.21.0 in /usr/local/lib/python3.10/dist-packages (from tensorflow) (2.32.3)\nRequirement already satisfied: setuptools in /usr/local/lib/python3.10/dist-packages (from tensorflow) (75.1.0)\nRequirement already satisfied: six>=1.12.0 in /usr/local/lib/python3.10/dist-packages (from tensorflow) (1.17.0)\nRequirement already satisfied: termcolor>=1.1.0 in /usr/local/lib/python3.10/dist-packages (from tensorflow) (2.5.0)\nRequirement already satisfied: typing-extensions>=3.6.6 in /usr/local/lib/python3.10/dist-packages (from tensorflow) (4.12.2)\nRequirement already satisfied: wrapt>=1.11.0 in /usr/local/lib/python3.10/dist-packages (from tensorflow) (1.17.0)\nRequirement already satisfied: grpcio<2.0,>=1.24.3 in /usr/local/lib/python3.10/dist-packages (from tensorflow) (1.68.1)\nRequirement already satisfied: tensorboard<2.18,>=2.17 in /usr/local/lib/python3.10/dist-packages (from tensorflow) (2.17.1)\nRequirement already satisfied: keras>=3.2.0 in /usr/local/lib/python3.10/dist-packages (from tensorflow) (3.5.0)\nRequirement already satisfied: tensorflow-io-gcs-filesystem>=0.23.1 in /usr/local/lib/python3.10/dist-packages (from tensorflow) (0.37.1)\nRequirement already satisfied: numpy<2.0.0,>=1.23.5 in /usr/local/lib/python3.10/dist-packages (from tensorflow) (1.26.4)\nRequirement already satisfied: wheel<1.0,>=0.23.0 in /usr/local/lib/python3.10/dist-packages (from astunparse>=1.6.0->tensorflow) (0.45.1)\nRequirement already satisfied: rich in /usr/local/lib/python3.10/dist-packages (from keras>=3.2.0->tensorflow) (13.9.4)\nRequirement already satisfied: namex in /usr/local/lib/python3.10/dist-packages (from keras>=3.2.0->tensorflow) (0.0.8)\nRequirement already satisfied: optree in /usr/local/lib/python3.10/dist-packages (from keras>=3.2.0->tensorflow) (0.13.1)\nRequirement already satisfied: mkl_fft in /usr/local/lib/python3.10/dist-packages (from numpy<2.0.0,>=1.23.5->tensorflow) (1.3.8)\nRequirement already satisfied: mkl_random in /usr/local/lib/python3.10/dist-packages (from numpy<2.0.0,>=1.23.5->tensorflow) (1.2.4)\nRequirement already satisfied: mkl_umath in /usr/local/lib/python3.10/dist-packages (from numpy<2.0.0,>=1.23.5->tensorflow) (0.1.1)\nRequirement already satisfied: mkl in /usr/local/lib/python3.10/dist-packages (from numpy<2.0.0,>=1.23.5->tensorflow) (2025.0.1)\nRequirement already satisfied: tbb4py in /usr/local/lib/python3.10/dist-packages (from numpy<2.0.0,>=1.23.5->tensorflow) (2022.0.0)\nRequirement already satisfied: mkl-service in /usr/local/lib/python3.10/dist-packages (from numpy<2.0.0,>=1.23.5->tensorflow) (2.4.1)\nRequirement already satisfied: charset-normalizer<4,>=2 in /usr/local/lib/python3.10/dist-packages (from requests<3,>=2.21.0->tensorflow) (3.4.1)\nRequirement already satisfied: idna<4,>=2.5 in /usr/local/lib/python3.10/dist-packages (from requests<3,>=2.21.0->tensorflow) (3.10)\nRequirement already satisfied: urllib3<3,>=1.21.1 in /usr/local/lib/python3.10/dist-packages (from requests<3,>=2.21.0->tensorflow) (2.3.0)\nRequirement already satisfied: certifi>=2017.4.17 in /usr/local/lib/python3.10/dist-packages (from requests<3,>=2.21.0->tensorflow) (2025.1.31)\nRequirement already satisfied: markdown>=2.6.8 in /usr/local/lib/python3.10/dist-packages (from tensorboard<2.18,>=2.17->tensorflow) (3.7)\nRequirement already satisfied: tensorboard-data-server<0.8.0,>=0.7.0 in /usr/local/lib/python3.10/dist-packages (from tensorboard<2.18,>=2.17->tensorflow) (0.7.2)\nRequirement already satisfied: werkzeug>=1.0.1 in /usr/local/lib/python3.10/dist-packages (from tensorboard<2.18,>=2.17->tensorflow) (3.1.3)\nRequirement already satisfied: MarkupSafe>=2.1.1 in /usr/local/lib/python3.10/dist-packages (from werkzeug>=1.0.1->tensorboard<2.18,>=2.17->tensorflow) (3.0.2)\nRequirement already satisfied: intel-openmp>=2024 in /usr/local/lib/python3.10/dist-packages (from mkl->numpy<2.0.0,>=1.23.5->tensorflow) (2024.2.0)\nRequirement already satisfied: tbb==2022.* in /usr/local/lib/python3.10/dist-packages (from mkl->numpy<2.0.0,>=1.23.5->tensorflow) (2022.0.0)\nRequirement already satisfied: tcmlib==1.* in /usr/local/lib/python3.10/dist-packages (from tbb==2022.*->mkl->numpy<2.0.0,>=1.23.5->tensorflow) (1.2.0)\nRequirement already satisfied: intel-cmplr-lib-rt in /usr/local/lib/python3.10/dist-packages (from mkl_umath->numpy<2.0.0,>=1.23.5->tensorflow) (2024.2.0)\nRequirement already satisfied: markdown-it-py>=2.2.0 in /usr/local/lib/python3.10/dist-packages (from rich->keras>=3.2.0->tensorflow) (3.0.0)\nRequirement already satisfied: pygments<3.0.0,>=2.13.0 in /usr/local/lib/python3.10/dist-packages (from rich->keras>=3.2.0->tensorflow) (2.19.1)\nRequirement already satisfied: intel-cmplr-lib-ur==2024.2.0 in /usr/local/lib/python3.10/dist-packages (from intel-openmp>=2024->mkl->numpy<2.0.0,>=1.23.5->tensorflow) (2024.2.0)\nRequirement already satisfied: mdurl~=0.1 in /usr/local/lib/python3.10/dist-packages (from markdown-it-py>=2.2.0->rich->keras>=3.2.0->tensorflow) (0.1.2)\nNote: you may need to restart the kernel to use updated packages.\n",
          "output_type": "stream"
        }
      ],
      "execution_count": null
    },
    {
      "cell_type": "code",
      "source": [
        "import pandas as pd\n",
        "pooled_data = pd.read_csv(\"/kaggle/input/doge-data/pooled_data.csv\")\n",
        "pooled_data[\"net\"] = pooled_data[\"net\"].apply(lambda x: 1 if x > 0 else 0)\n",
        "pooled_data = pooled_data.sample(frac=1, random_state=42).reset_index(drop=True)\n",
        "pooled_data = pooled_data.loc[:,[\"tweet\",\"net\"]]\n",
        "X = pooled_data[\"tweet\"]\n",
        "y = pooled_data[\"net\"]"
      ],
      "metadata": {
        "trusted": true,
        "execution": {
          "iopub.status.busy": "2025-03-02T10:23:25.85521Z",
          "iopub.execute_input": "2025-03-02T10:23:25.855576Z",
          "iopub.status.idle": "2025-03-02T10:23:26.400925Z",
          "shell.execute_reply.started": "2025-03-02T10:23:25.855548Z",
          "shell.execute_reply": "2025-03-02T10:23:26.400069Z"
        },
        "id": "rp0QTPrnchtU"
      },
      "outputs": [],
      "execution_count": null
    },
    {
      "cell_type": "code",
      "source": [
        "from tensorflow.keras.preprocessing.text import Tokenizer\n",
        "from tensorflow.keras.preprocessing.sequence import pad_sequences\n",
        "from sklearn.model_selection import train_test_split\n",
        "\n",
        "# Initialize the tokenizer\n",
        "tokenizer = Tokenizer(num_words=10000)  # Set max words for vocabulary\n",
        "\n",
        "# Fit the tokenizer on the text data\n",
        "tokenizer.fit_on_texts(X)\n",
        "\n",
        "# Convert text to sequences of integers\n",
        "X_sequences = tokenizer.texts_to_sequences(X)\n",
        "\n",
        "# Pad the sequences to ensure they are all the same length\n",
        "X_padded = pad_sequences(X_sequences, padding='post', maxlen=100)  # Adjust maxlen based on your dataset\n",
        "\n",
        "# Split into train and validation sets\n",
        "X_train, X_val, y_train, y_val = train_test_split(X_padded, y, test_size=0.2, random_state=42)\n"
      ],
      "metadata": {
        "trusted": true,
        "execution": {
          "iopub.status.busy": "2025-03-02T10:23:26.40286Z",
          "iopub.execute_input": "2025-03-02T10:23:26.403112Z",
          "iopub.status.idle": "2025-03-02T10:23:33.982002Z",
          "shell.execute_reply.started": "2025-03-02T10:23:26.403091Z",
          "shell.execute_reply": "2025-03-02T10:23:33.981259Z"
        },
        "id": "jS_DNdn3chtU"
      },
      "outputs": [],
      "execution_count": null
    },
    {
      "cell_type": "code",
      "source": [
        "from tensorflow.keras.models import Sequential\n",
        "from tensorflow.keras.layers import Embedding, LSTM, Dense, Dropout, BatchNormalization\n",
        "\n",
        "# Build the LSTM model\n",
        "model = Sequential()\n",
        "\n",
        "# Embedding layer (embeddings can be pre-trained like GloVe or random)\n",
        "model.add(BatchNormalization())\n",
        "model.add(Embedding(input_dim=10000, output_dim=256, input_length=200))\n",
        "model.add(BatchNormalization())\n",
        "\n",
        "# LSTM layer\n",
        "model.add(LSTM(256, dropout=0.25, recurrent_dropout=0.2))\n",
        "model.add(BatchNormalization())\n",
        "\n",
        "\n",
        "# Output layer (binary classification)\n",
        "model.add(Dense(1, activation='sigmoid'))\n",
        "\n",
        "# Compile the model\n",
        "model.compile(loss='binary_crossentropy', optimizer='adam', metrics=['binary_accuracy'],)\n"
      ],
      "metadata": {
        "trusted": true,
        "execution": {
          "iopub.status.busy": "2025-03-02T10:23:33.983445Z",
          "iopub.execute_input": "2025-03-02T10:23:33.983761Z",
          "iopub.status.idle": "2025-03-02T10:23:34.00457Z",
          "shell.execute_reply.started": "2025-03-02T10:23:33.98373Z",
          "shell.execute_reply": "2025-03-02T10:23:34.003612Z"
        },
        "id": "TsRCAHGMchtU",
        "outputId": "54067954-1b83-4f1b-8d39-469706f18401"
      },
      "outputs": [
        {
          "name": "stderr",
          "text": "/usr/local/lib/python3.10/dist-packages/keras/src/layers/core/embedding.py:90: UserWarning: Argument `input_length` is deprecated. Just remove it.\n  warnings.warn(\n",
          "output_type": "stream"
        }
      ],
      "execution_count": null
    },
    {
      "cell_type": "code",
      "source": [
        "from tensorflow.keras.callbacks import EarlyStopping\n",
        "\n",
        "# Early stopping to prevent overfitting\n",
        "early_stopping = EarlyStopping(min_delta = 0.01,monitor='val_loss', patience=10, restore_best_weights=True)"
      ],
      "metadata": {
        "trusted": true,
        "execution": {
          "iopub.status.busy": "2025-03-02T10:28:27.079762Z",
          "iopub.execute_input": "2025-03-02T10:28:27.080083Z",
          "iopub.status.idle": "2025-03-02T10:28:27.08395Z",
          "shell.execute_reply.started": "2025-03-02T10:28:27.080059Z",
          "shell.execute_reply": "2025-03-02T10:28:27.083155Z"
        },
        "id": "rXtkIWlHchtU"
      },
      "outputs": [],
      "execution_count": null
    },
    {
      "cell_type": "code",
      "source": [
        "history = model.fit(X_train, y_train, epochs=20, batch_size=1024, validation_data=(X_val, y_val), callbacks=[early_stopping], verbose = 1)\n"
      ],
      "metadata": {
        "trusted": true,
        "execution": {
          "iopub.status.busy": "2025-03-02T10:28:29.819589Z",
          "iopub.execute_input": "2025-03-02T10:28:29.819878Z",
          "iopub.status.idle": "2025-03-02T10:33:41.868388Z",
          "shell.execute_reply.started": "2025-03-02T10:28:29.819855Z",
          "shell.execute_reply": "2025-03-02T10:33:41.867577Z"
        },
        "id": "d4LnzPpDchtU",
        "outputId": "a0c399d8-533f-46ae-86ce-31a4e518eb23"
      },
      "outputs": [
        {
          "name": "stdout",
          "text": "Epoch 1/20\n\u001b[1m153/153\u001b[0m \u001b[32m━━━━━━━━━━━━━━━━━━━━\u001b[0m\u001b[37m\u001b[0m \u001b[1m28s\u001b[0m 186ms/step - binary_accuracy: 0.5315 - loss: 0.6914 - val_binary_accuracy: 0.5294 - val_loss: 0.6914\nEpoch 2/20\n\u001b[1m153/153\u001b[0m \u001b[32m━━━━━━━━━━━━━━━━━━━━\u001b[0m\u001b[37m\u001b[0m \u001b[1m28s\u001b[0m 186ms/step - binary_accuracy: 0.5301 - loss: 0.6914 - val_binary_accuracy: 0.5293 - val_loss: 0.6914\nEpoch 3/20\n\u001b[1m153/153\u001b[0m \u001b[32m━━━━━━━━━━━━━━━━━━━━\u001b[0m\u001b[37m\u001b[0m \u001b[1m29s\u001b[0m 187ms/step - binary_accuracy: 0.5315 - loss: 0.6913 - val_binary_accuracy: 0.5295 - val_loss: 0.6914\nEpoch 4/20\n\u001b[1m153/153\u001b[0m \u001b[32m━━━━━━━━━━━━━━━━━━━━\u001b[0m\u001b[37m\u001b[0m \u001b[1m28s\u001b[0m 184ms/step - binary_accuracy: 0.5317 - loss: 0.6913 - val_binary_accuracy: 0.5293 - val_loss: 0.6914\nEpoch 5/20\n\u001b[1m153/153\u001b[0m \u001b[32m━━━━━━━━━━━━━━━━━━━━\u001b[0m\u001b[37m\u001b[0m \u001b[1m28s\u001b[0m 186ms/step - binary_accuracy: 0.5276 - loss: 0.6917 - val_binary_accuracy: 0.5293 - val_loss: 0.6915\nEpoch 6/20\n\u001b[1m153/153\u001b[0m \u001b[32m━━━━━━━━━━━━━━━━━━━━\u001b[0m\u001b[37m\u001b[0m \u001b[1m28s\u001b[0m 184ms/step - binary_accuracy: 0.5308 - loss: 0.6913 - val_binary_accuracy: 0.5293 - val_loss: 0.6914\nEpoch 7/20\n\u001b[1m153/153\u001b[0m \u001b[32m━━━━━━━━━━━━━━━━━━━━\u001b[0m\u001b[37m\u001b[0m \u001b[1m28s\u001b[0m 186ms/step - binary_accuracy: 0.5303 - loss: 0.6915 - val_binary_accuracy: 0.5293 - val_loss: 0.6914\nEpoch 8/20\n\u001b[1m153/153\u001b[0m \u001b[32m━━━━━━━━━━━━━━━━━━━━\u001b[0m\u001b[37m\u001b[0m \u001b[1m28s\u001b[0m 185ms/step - binary_accuracy: 0.5319 - loss: 0.6913 - val_binary_accuracy: 0.5293 - val_loss: 0.6914\nEpoch 9/20\n\u001b[1m153/153\u001b[0m \u001b[32m━━━━━━━━━━━━━━━━━━━━\u001b[0m\u001b[37m\u001b[0m \u001b[1m28s\u001b[0m 185ms/step - binary_accuracy: 0.5334 - loss: 0.6911 - val_binary_accuracy: 0.5293 - val_loss: 0.6915\nEpoch 10/20\n\u001b[1m153/153\u001b[0m \u001b[32m━━━━━━━━━━━━━━━━━━━━\u001b[0m\u001b[37m\u001b[0m \u001b[1m28s\u001b[0m 185ms/step - binary_accuracy: 0.5311 - loss: 0.6913 - val_binary_accuracy: 0.5293 - val_loss: 0.6914\nEpoch 11/20\n\u001b[1m153/153\u001b[0m \u001b[32m━━━━━━━━━━━━━━━━━━━━\u001b[0m\u001b[37m\u001b[0m \u001b[1m28s\u001b[0m 184ms/step - binary_accuracy: 0.5307 - loss: 0.6913 - val_binary_accuracy: 0.5293 - val_loss: 0.6915\n",
          "output_type": "stream"
        }
      ],
      "execution_count": null
    },
    {
      "cell_type": "code",
      "source": [
        "def model_predict(input:list[str]):\n",
        "    # Convert new text to sequence and pad it\n",
        "    new_text = input\n",
        "    new_text_seq = tokenizer.texts_to_sequences(new_text)\n",
        "    new_text_padded = pad_sequences(new_text_seq, padding='post', maxlen=100)\n",
        "\n",
        "    # Predict using the trained model\n",
        "    prediction = model.predict(new_text_padded)\n",
        "    return f\"Predicted labels: {prediction[0]}\"\n"
      ],
      "metadata": {
        "trusted": true,
        "execution": {
          "iopub.status.busy": "2025-03-02T10:35:49.567302Z",
          "iopub.execute_input": "2025-03-02T10:35:49.567631Z",
          "iopub.status.idle": "2025-03-02T10:35:49.670025Z",
          "shell.execute_reply.started": "2025-03-02T10:35:49.5676Z",
          "shell.execute_reply": "2025-03-02T10:35:49.669211Z"
        },
        "id": "2opbqMa3chtV",
        "outputId": "ee5a2083-82f1-4cfb-b4e0-1a1fe9880add"
      },
      "outputs": [
        {
          "name": "stdout",
          "text": "\u001b[1m1/1\u001b[0m \u001b[32m━━━━━━━━━━━━━━━━━━━━\u001b[0m\u001b[37m\u001b[0m \u001b[1m0s\u001b[0m 55ms/step\n",
          "output_type": "stream"
        },
        {
          "execution_count": 44,
          "output_type": "execute_result",
          "data": {
            "text/plain": "'Predicted labels: [0.52672195]'"
          },
          "metadata": {}
        }
      ],
      "execution_count": null
    },
    {
      "cell_type": "code",
      "source": [
        "model.save(\"/kaggle/working/model.h5\")"
      ],
      "metadata": {
        "trusted": true,
        "execution": {
          "iopub.status.busy": "2025-03-02T10:40:38.691144Z",
          "iopub.execute_input": "2025-03-02T10:40:38.69146Z",
          "iopub.status.idle": "2025-03-02T10:40:38.79107Z",
          "shell.execute_reply.started": "2025-03-02T10:40:38.691434Z",
          "shell.execute_reply": "2025-03-02T10:40:38.790115Z"
        },
        "id": "pRAEnDqmchtV"
      },
      "outputs": [],
      "execution_count": null
    }
  ]
}